{
  "nbformat": 4,
  "nbformat_minor": 0,
  "metadata": {
    "colab": {
      "provenance": [],
      "authorship_tag": "ABX9TyPI2VfFkAURvab9qMM00K8S",
      "include_colab_link": true
    },
    "kernelspec": {
      "name": "python3",
      "display_name": "Python 3"
    },
    "language_info": {
      "name": "python"
    }
  },
  "cells": [
    {
      "cell_type": "markdown",
      "metadata": {
        "id": "view-in-github",
        "colab_type": "text"
      },
      "source": [
        "<a href=\"https://colab.research.google.com/github/shikhacov/NLPCW1/blob/main/NLP_CW1.ipynb\" target=\"_parent\"><img src=\"https://colab.research.google.com/assets/colab-badge.svg\" alt=\"Open In Colab\"/></a>"
      ]
    },
    {
      "cell_type": "code",
      "execution_count": 43,
      "metadata": {
        "id": "zwfe2GEwa_67"
      },
      "outputs": [],
      "source": [
        "import pandas as pd\n",
        "import numpy as np\n",
        "from sklearn.feature_extraction.text import CountVectorizer\n",
        "from sklearn.model_selection import train_test_split\n",
        "from sklearn.svm import SVC\n",
        "from sklearn.metrics import accuracy_score, classification_report\n",
        "import nltk\n",
        "from nltk.corpus import stopwords\n",
        "from nltk.tokenize import word_tokenize\n",
        "import string\n",
        "from nltk.corpus import stopwords\n",
        "from nltk.tokenize import word_tokenize\n",
        "from gensim.models import Word2Vec"
      ]
    },
    {
      "cell_type": "code",
      "source": [
        "# Download NLTK data\n",
        "nltk.download('punkt')\n",
        "nltk.download('stopwords')"
      ],
      "metadata": {
        "colab": {
          "base_uri": "https://localhost:8080/"
        },
        "id": "QW_2ZX2LbQ6J",
        "outputId": "02b48963-1cf0-486b-8b37-7eaa9704c77c"
      },
      "execution_count": 44,
      "outputs": [
        {
          "output_type": "stream",
          "name": "stderr",
          "text": [
            "[nltk_data] Downloading package punkt to /root/nltk_data...\n",
            "[nltk_data]   Package punkt is already up-to-date!\n",
            "[nltk_data] Downloading package stopwords to /root/nltk_data...\n",
            "[nltk_data]   Package stopwords is already up-to-date!\n"
          ]
        },
        {
          "output_type": "execute_result",
          "data": {
            "text/plain": [
              "True"
            ]
          },
          "metadata": {},
          "execution_count": 44
        }
      ]
    },
    {
      "cell_type": "code",
      "source": [
        "data=pd.read_table(r\"/content/semeval2016-task6-trainingdata[1].txt\",encoding='latin-1')\n",
        "data1=pd.DataFrame(data)\n"
      ],
      "metadata": {
        "id": "2YdayAeabQ2s"
      },
      "execution_count": 45,
      "outputs": []
    },
    {
      "cell_type": "code",
      "source": [
        "data1"
      ],
      "metadata": {
        "colab": {
          "base_uri": "https://localhost:8080/",
          "height": 423
        },
        "id": "BPeYD22VdkyE",
        "outputId": "334c4062-36b7-4cf3-d57a-15d21fc26ddd"
      },
      "execution_count": 46,
      "outputs": [
        {
          "output_type": "execute_result",
          "data": {
            "text/plain": [
              "        ID                    Target  \\\n",
              "0      101                   Atheism   \n",
              "1      102                   Atheism   \n",
              "2      103                   Atheism   \n",
              "3      104                   Atheism   \n",
              "4      105                   Atheism   \n",
              "...    ...                       ...   \n",
              "2809  2910  Legalization of Abortion   \n",
              "2810  2911  Legalization of Abortion   \n",
              "2811  2912  Legalization of Abortion   \n",
              "2812  2913  Legalization of Abortion   \n",
              "2813  2914  Legalization of Abortion   \n",
              "\n",
              "                                                  Tweet   Stance  \n",
              "0     dear lord thank u for all of ur blessings forg...  AGAINST  \n",
              "1     Blessed are the peacemakers, for they shall be...  AGAINST  \n",
              "2     I am not conformed to this world. I am transfo...  AGAINST  \n",
              "3     Salah should be prayed with #focus and #unders...  AGAINST  \n",
              "4     And stay in your houses and do not display you...  AGAINST  \n",
              "...                                                 ...      ...  \n",
              "2809  There's a law protecting unborn eagles, but no...  AGAINST  \n",
              "2810  I am 1 in 3... I have had an abortion #Abortio...  AGAINST  \n",
              "2811  How dare you say my sexual preference is a cho...  AGAINST  \n",
              "2812  Equal rights for those 'born that way', no rig...  AGAINST  \n",
              "2813  #POTUS seals his legacy w/ 1/2 doz wins. The #...  AGAINST  \n",
              "\n",
              "[2814 rows x 4 columns]"
            ],
            "text/html": [
              "\n",
              "  <div id=\"df-481a9389-174e-4db2-9574-b4d3a75c17e2\" class=\"colab-df-container\">\n",
              "    <div>\n",
              "<style scoped>\n",
              "    .dataframe tbody tr th:only-of-type {\n",
              "        vertical-align: middle;\n",
              "    }\n",
              "\n",
              "    .dataframe tbody tr th {\n",
              "        vertical-align: top;\n",
              "    }\n",
              "\n",
              "    .dataframe thead th {\n",
              "        text-align: right;\n",
              "    }\n",
              "</style>\n",
              "<table border=\"1\" class=\"dataframe\">\n",
              "  <thead>\n",
              "    <tr style=\"text-align: right;\">\n",
              "      <th></th>\n",
              "      <th>ID</th>\n",
              "      <th>Target</th>\n",
              "      <th>Tweet</th>\n",
              "      <th>Stance</th>\n",
              "    </tr>\n",
              "  </thead>\n",
              "  <tbody>\n",
              "    <tr>\n",
              "      <th>0</th>\n",
              "      <td>101</td>\n",
              "      <td>Atheism</td>\n",
              "      <td>dear lord thank u for all of ur blessings forg...</td>\n",
              "      <td>AGAINST</td>\n",
              "    </tr>\n",
              "    <tr>\n",
              "      <th>1</th>\n",
              "      <td>102</td>\n",
              "      <td>Atheism</td>\n",
              "      <td>Blessed are the peacemakers, for they shall be...</td>\n",
              "      <td>AGAINST</td>\n",
              "    </tr>\n",
              "    <tr>\n",
              "      <th>2</th>\n",
              "      <td>103</td>\n",
              "      <td>Atheism</td>\n",
              "      <td>I am not conformed to this world. I am transfo...</td>\n",
              "      <td>AGAINST</td>\n",
              "    </tr>\n",
              "    <tr>\n",
              "      <th>3</th>\n",
              "      <td>104</td>\n",
              "      <td>Atheism</td>\n",
              "      <td>Salah should be prayed with #focus and #unders...</td>\n",
              "      <td>AGAINST</td>\n",
              "    </tr>\n",
              "    <tr>\n",
              "      <th>4</th>\n",
              "      <td>105</td>\n",
              "      <td>Atheism</td>\n",
              "      <td>And stay in your houses and do not display you...</td>\n",
              "      <td>AGAINST</td>\n",
              "    </tr>\n",
              "    <tr>\n",
              "      <th>...</th>\n",
              "      <td>...</td>\n",
              "      <td>...</td>\n",
              "      <td>...</td>\n",
              "      <td>...</td>\n",
              "    </tr>\n",
              "    <tr>\n",
              "      <th>2809</th>\n",
              "      <td>2910</td>\n",
              "      <td>Legalization of Abortion</td>\n",
              "      <td>There's a law protecting unborn eagles, but no...</td>\n",
              "      <td>AGAINST</td>\n",
              "    </tr>\n",
              "    <tr>\n",
              "      <th>2810</th>\n",
              "      <td>2911</td>\n",
              "      <td>Legalization of Abortion</td>\n",
              "      <td>I am 1 in 3... I have had an abortion #Abortio...</td>\n",
              "      <td>AGAINST</td>\n",
              "    </tr>\n",
              "    <tr>\n",
              "      <th>2811</th>\n",
              "      <td>2912</td>\n",
              "      <td>Legalization of Abortion</td>\n",
              "      <td>How dare you say my sexual preference is a cho...</td>\n",
              "      <td>AGAINST</td>\n",
              "    </tr>\n",
              "    <tr>\n",
              "      <th>2812</th>\n",
              "      <td>2913</td>\n",
              "      <td>Legalization of Abortion</td>\n",
              "      <td>Equal rights for those 'born that way', no rig...</td>\n",
              "      <td>AGAINST</td>\n",
              "    </tr>\n",
              "    <tr>\n",
              "      <th>2813</th>\n",
              "      <td>2914</td>\n",
              "      <td>Legalization of Abortion</td>\n",
              "      <td>#POTUS seals his legacy w/ 1/2 doz wins. The #...</td>\n",
              "      <td>AGAINST</td>\n",
              "    </tr>\n",
              "  </tbody>\n",
              "</table>\n",
              "<p>2814 rows × 4 columns</p>\n",
              "</div>\n",
              "    <div class=\"colab-df-buttons\">\n",
              "\n",
              "  <div class=\"colab-df-container\">\n",
              "    <button class=\"colab-df-convert\" onclick=\"convertToInteractive('df-481a9389-174e-4db2-9574-b4d3a75c17e2')\"\n",
              "            title=\"Convert this dataframe to an interactive table.\"\n",
              "            style=\"display:none;\">\n",
              "\n",
              "  <svg xmlns=\"http://www.w3.org/2000/svg\" height=\"24px\" viewBox=\"0 -960 960 960\">\n",
              "    <path d=\"M120-120v-720h720v720H120Zm60-500h600v-160H180v160Zm220 220h160v-160H400v160Zm0 220h160v-160H400v160ZM180-400h160v-160H180v160Zm440 0h160v-160H620v160ZM180-180h160v-160H180v160Zm440 0h160v-160H620v160Z\"/>\n",
              "  </svg>\n",
              "    </button>\n",
              "\n",
              "  <style>\n",
              "    .colab-df-container {\n",
              "      display:flex;\n",
              "      gap: 12px;\n",
              "    }\n",
              "\n",
              "    .colab-df-convert {\n",
              "      background-color: #E8F0FE;\n",
              "      border: none;\n",
              "      border-radius: 50%;\n",
              "      cursor: pointer;\n",
              "      display: none;\n",
              "      fill: #1967D2;\n",
              "      height: 32px;\n",
              "      padding: 0 0 0 0;\n",
              "      width: 32px;\n",
              "    }\n",
              "\n",
              "    .colab-df-convert:hover {\n",
              "      background-color: #E2EBFA;\n",
              "      box-shadow: 0px 1px 2px rgba(60, 64, 67, 0.3), 0px 1px 3px 1px rgba(60, 64, 67, 0.15);\n",
              "      fill: #174EA6;\n",
              "    }\n",
              "\n",
              "    .colab-df-buttons div {\n",
              "      margin-bottom: 4px;\n",
              "    }\n",
              "\n",
              "    [theme=dark] .colab-df-convert {\n",
              "      background-color: #3B4455;\n",
              "      fill: #D2E3FC;\n",
              "    }\n",
              "\n",
              "    [theme=dark] .colab-df-convert:hover {\n",
              "      background-color: #434B5C;\n",
              "      box-shadow: 0px 1px 3px 1px rgba(0, 0, 0, 0.15);\n",
              "      filter: drop-shadow(0px 1px 2px rgba(0, 0, 0, 0.3));\n",
              "      fill: #FFFFFF;\n",
              "    }\n",
              "  </style>\n",
              "\n",
              "    <script>\n",
              "      const buttonEl =\n",
              "        document.querySelector('#df-481a9389-174e-4db2-9574-b4d3a75c17e2 button.colab-df-convert');\n",
              "      buttonEl.style.display =\n",
              "        google.colab.kernel.accessAllowed ? 'block' : 'none';\n",
              "\n",
              "      async function convertToInteractive(key) {\n",
              "        const element = document.querySelector('#df-481a9389-174e-4db2-9574-b4d3a75c17e2');\n",
              "        const dataTable =\n",
              "          await google.colab.kernel.invokeFunction('convertToInteractive',\n",
              "                                                    [key], {});\n",
              "        if (!dataTable) return;\n",
              "\n",
              "        const docLinkHtml = 'Like what you see? Visit the ' +\n",
              "          '<a target=\"_blank\" href=https://colab.research.google.com/notebooks/data_table.ipynb>data table notebook</a>'\n",
              "          + ' to learn more about interactive tables.';\n",
              "        element.innerHTML = '';\n",
              "        dataTable['output_type'] = 'display_data';\n",
              "        await google.colab.output.renderOutput(dataTable, element);\n",
              "        const docLink = document.createElement('div');\n",
              "        docLink.innerHTML = docLinkHtml;\n",
              "        element.appendChild(docLink);\n",
              "      }\n",
              "    </script>\n",
              "  </div>\n",
              "\n",
              "\n",
              "<div id=\"df-0b4a3bca-b9a1-4cf4-a0ae-b6ae96c31387\">\n",
              "  <button class=\"colab-df-quickchart\" onclick=\"quickchart('df-0b4a3bca-b9a1-4cf4-a0ae-b6ae96c31387')\"\n",
              "            title=\"Suggest charts\"\n",
              "            style=\"display:none;\">\n",
              "\n",
              "<svg xmlns=\"http://www.w3.org/2000/svg\" height=\"24px\"viewBox=\"0 0 24 24\"\n",
              "     width=\"24px\">\n",
              "    <g>\n",
              "        <path d=\"M19 3H5c-1.1 0-2 .9-2 2v14c0 1.1.9 2 2 2h14c1.1 0 2-.9 2-2V5c0-1.1-.9-2-2-2zM9 17H7v-7h2v7zm4 0h-2V7h2v10zm4 0h-2v-4h2v4z\"/>\n",
              "    </g>\n",
              "</svg>\n",
              "  </button>\n",
              "\n",
              "<style>\n",
              "  .colab-df-quickchart {\n",
              "      --bg-color: #E8F0FE;\n",
              "      --fill-color: #1967D2;\n",
              "      --hover-bg-color: #E2EBFA;\n",
              "      --hover-fill-color: #174EA6;\n",
              "      --disabled-fill-color: #AAA;\n",
              "      --disabled-bg-color: #DDD;\n",
              "  }\n",
              "\n",
              "  [theme=dark] .colab-df-quickchart {\n",
              "      --bg-color: #3B4455;\n",
              "      --fill-color: #D2E3FC;\n",
              "      --hover-bg-color: #434B5C;\n",
              "      --hover-fill-color: #FFFFFF;\n",
              "      --disabled-bg-color: #3B4455;\n",
              "      --disabled-fill-color: #666;\n",
              "  }\n",
              "\n",
              "  .colab-df-quickchart {\n",
              "    background-color: var(--bg-color);\n",
              "    border: none;\n",
              "    border-radius: 50%;\n",
              "    cursor: pointer;\n",
              "    display: none;\n",
              "    fill: var(--fill-color);\n",
              "    height: 32px;\n",
              "    padding: 0;\n",
              "    width: 32px;\n",
              "  }\n",
              "\n",
              "  .colab-df-quickchart:hover {\n",
              "    background-color: var(--hover-bg-color);\n",
              "    box-shadow: 0 1px 2px rgba(60, 64, 67, 0.3), 0 1px 3px 1px rgba(60, 64, 67, 0.15);\n",
              "    fill: var(--button-hover-fill-color);\n",
              "  }\n",
              "\n",
              "  .colab-df-quickchart-complete:disabled,\n",
              "  .colab-df-quickchart-complete:disabled:hover {\n",
              "    background-color: var(--disabled-bg-color);\n",
              "    fill: var(--disabled-fill-color);\n",
              "    box-shadow: none;\n",
              "  }\n",
              "\n",
              "  .colab-df-spinner {\n",
              "    border: 2px solid var(--fill-color);\n",
              "    border-color: transparent;\n",
              "    border-bottom-color: var(--fill-color);\n",
              "    animation:\n",
              "      spin 1s steps(1) infinite;\n",
              "  }\n",
              "\n",
              "  @keyframes spin {\n",
              "    0% {\n",
              "      border-color: transparent;\n",
              "      border-bottom-color: var(--fill-color);\n",
              "      border-left-color: var(--fill-color);\n",
              "    }\n",
              "    20% {\n",
              "      border-color: transparent;\n",
              "      border-left-color: var(--fill-color);\n",
              "      border-top-color: var(--fill-color);\n",
              "    }\n",
              "    30% {\n",
              "      border-color: transparent;\n",
              "      border-left-color: var(--fill-color);\n",
              "      border-top-color: var(--fill-color);\n",
              "      border-right-color: var(--fill-color);\n",
              "    }\n",
              "    40% {\n",
              "      border-color: transparent;\n",
              "      border-right-color: var(--fill-color);\n",
              "      border-top-color: var(--fill-color);\n",
              "    }\n",
              "    60% {\n",
              "      border-color: transparent;\n",
              "      border-right-color: var(--fill-color);\n",
              "    }\n",
              "    80% {\n",
              "      border-color: transparent;\n",
              "      border-right-color: var(--fill-color);\n",
              "      border-bottom-color: var(--fill-color);\n",
              "    }\n",
              "    90% {\n",
              "      border-color: transparent;\n",
              "      border-bottom-color: var(--fill-color);\n",
              "    }\n",
              "  }\n",
              "</style>\n",
              "\n",
              "  <script>\n",
              "    async function quickchart(key) {\n",
              "      const quickchartButtonEl =\n",
              "        document.querySelector('#' + key + ' button');\n",
              "      quickchartButtonEl.disabled = true;  // To prevent multiple clicks.\n",
              "      quickchartButtonEl.classList.add('colab-df-spinner');\n",
              "      try {\n",
              "        const charts = await google.colab.kernel.invokeFunction(\n",
              "            'suggestCharts', [key], {});\n",
              "      } catch (error) {\n",
              "        console.error('Error during call to suggestCharts:', error);\n",
              "      }\n",
              "      quickchartButtonEl.classList.remove('colab-df-spinner');\n",
              "      quickchartButtonEl.classList.add('colab-df-quickchart-complete');\n",
              "    }\n",
              "    (() => {\n",
              "      let quickchartButtonEl =\n",
              "        document.querySelector('#df-0b4a3bca-b9a1-4cf4-a0ae-b6ae96c31387 button');\n",
              "      quickchartButtonEl.style.display =\n",
              "        google.colab.kernel.accessAllowed ? 'block' : 'none';\n",
              "    })();\n",
              "  </script>\n",
              "</div>\n",
              "\n",
              "  <div id=\"id_5da02eb7-2614-4b67-98f0-728b9eff3661\">\n",
              "    <style>\n",
              "      .colab-df-generate {\n",
              "        background-color: #E8F0FE;\n",
              "        border: none;\n",
              "        border-radius: 50%;\n",
              "        cursor: pointer;\n",
              "        display: none;\n",
              "        fill: #1967D2;\n",
              "        height: 32px;\n",
              "        padding: 0 0 0 0;\n",
              "        width: 32px;\n",
              "      }\n",
              "\n",
              "      .colab-df-generate:hover {\n",
              "        background-color: #E2EBFA;\n",
              "        box-shadow: 0px 1px 2px rgba(60, 64, 67, 0.3), 0px 1px 3px 1px rgba(60, 64, 67, 0.15);\n",
              "        fill: #174EA6;\n",
              "      }\n",
              "\n",
              "      [theme=dark] .colab-df-generate {\n",
              "        background-color: #3B4455;\n",
              "        fill: #D2E3FC;\n",
              "      }\n",
              "\n",
              "      [theme=dark] .colab-df-generate:hover {\n",
              "        background-color: #434B5C;\n",
              "        box-shadow: 0px 1px 3px 1px rgba(0, 0, 0, 0.15);\n",
              "        filter: drop-shadow(0px 1px 2px rgba(0, 0, 0, 0.3));\n",
              "        fill: #FFFFFF;\n",
              "      }\n",
              "    </style>\n",
              "    <button class=\"colab-df-generate\" onclick=\"generateWithVariable('data1')\"\n",
              "            title=\"Generate code using this dataframe.\"\n",
              "            style=\"display:none;\">\n",
              "\n",
              "  <svg xmlns=\"http://www.w3.org/2000/svg\" height=\"24px\"viewBox=\"0 0 24 24\"\n",
              "       width=\"24px\">\n",
              "    <path d=\"M7,19H8.4L18.45,9,17,7.55,7,17.6ZM5,21V16.75L18.45,3.32a2,2,0,0,1,2.83,0l1.4,1.43a1.91,1.91,0,0,1,.58,1.4,1.91,1.91,0,0,1-.58,1.4L9.25,21ZM18.45,9,17,7.55Zm-12,3A5.31,5.31,0,0,0,4.9,8.1,5.31,5.31,0,0,0,1,6.5,5.31,5.31,0,0,0,4.9,4.9,5.31,5.31,0,0,0,6.5,1,5.31,5.31,0,0,0,8.1,4.9,5.31,5.31,0,0,0,12,6.5,5.46,5.46,0,0,0,6.5,12Z\"/>\n",
              "  </svg>\n",
              "    </button>\n",
              "    <script>\n",
              "      (() => {\n",
              "      const buttonEl =\n",
              "        document.querySelector('#id_5da02eb7-2614-4b67-98f0-728b9eff3661 button.colab-df-generate');\n",
              "      buttonEl.style.display =\n",
              "        google.colab.kernel.accessAllowed ? 'block' : 'none';\n",
              "\n",
              "      buttonEl.onclick = () => {\n",
              "        google.colab.notebook.generateWithVariable('data1');\n",
              "      }\n",
              "      })();\n",
              "    </script>\n",
              "  </div>\n",
              "\n",
              "    </div>\n",
              "  </div>\n"
            ],
            "application/vnd.google.colaboratory.intrinsic+json": {
              "type": "dataframe",
              "variable_name": "data1",
              "summary": "{\n  \"name\": \"data1\",\n  \"rows\": 2814,\n  \"fields\": [\n    {\n      \"column\": \"ID\",\n      \"properties\": {\n        \"dtype\": \"number\",\n        \"std\": 812,\n        \"min\": 101,\n        \"max\": 2914,\n        \"num_unique_values\": 2814,\n        \"samples\": [\n          551,\n          1275,\n          1293\n        ],\n        \"semantic_type\": \"\",\n        \"description\": \"\"\n      }\n    },\n    {\n      \"column\": \"Target\",\n      \"properties\": {\n        \"dtype\": \"category\",\n        \"num_unique_values\": 5,\n        \"samples\": [\n          \"Climate Change is a Real Concern\",\n          \"Legalization of Abortion\",\n          \"Feminist Movement\"\n        ],\n        \"semantic_type\": \"\",\n        \"description\": \"\"\n      }\n    },\n    {\n      \"column\": \"Tweet\",\n      \"properties\": {\n        \"dtype\": \"string\",\n        \"num_unique_values\": 2814,\n        \"samples\": [\n          \"Secularism. . .secularism. I'm just gonna say this one more time. Secularism. Learn it. #religiousfreedom #freedomfromreligion #SemST\",\n          \"@brandileighhhhh its called sexual coercion, and it is the same as rape. #RapeCulture #SemST\",\n          \"It's frustrating & awful that the only voices getting access to a wider audience are the voices of hate. #ConfederateFlag #race #SemST\"\n        ],\n        \"semantic_type\": \"\",\n        \"description\": \"\"\n      }\n    },\n    {\n      \"column\": \"Stance\",\n      \"properties\": {\n        \"dtype\": \"category\",\n        \"num_unique_values\": 3,\n        \"samples\": [\n          \"AGAINST\",\n          \"FAVOR\",\n          \"NONE\"\n        ],\n        \"semantic_type\": \"\",\n        \"description\": \"\"\n      }\n    }\n  ]\n}"
            }
          },
          "metadata": {},
          "execution_count": 46
        }
      ]
    },
    {
      "source": [
        "# @title Target\n",
        "\n",
        "from matplotlib import pyplot as plt\n",
        "import seaborn as sns\n",
        "data1.groupby('Target').size().plot(kind='barh', color=sns.palettes.mpl_palette('Dark2'))\n",
        "plt.gca().spines[['top', 'right',]].set_visible(False)"
      ],
      "cell_type": "code",
      "execution_count": 47,
      "outputs": [
        {
          "output_type": "display_data",
          "data": {
            "text/plain": [
              "<Figure size 640x480 with 1 Axes>"
            ],
            "image/png": "[encoded data removed]"
          },
          "metadata": {}
        }
      ],
      "metadata": {
        "cellView": "form",
        "colab": {
          "base_uri": "https://localhost:8080/",
          "height": 430
        },
        "id": "nx2TtCcUouIR",
        "outputId": "b42c5ce8-158a-419c-d06f-486ff74df86a"
      }
    },
    {
      "cell_type": "code",
      "source": [
        "import pandas as pd\n",
        "from sklearn.model_selection import train_test_split\n",
        "from sklearn.feature_extraction.text import TfidfVectorizer\n",
        "from sklearn.svm import SVC\n",
        "from sklearn.ensemble import RandomForestClassifier\n",
        "from sklearn.tree import DecisionTreeClassifier\n",
        "from sklearn.metrics import accuracy_score, f1_score\n",
        "from sklearn.preprocessing import LabelEncoder"
      ],
      "metadata": {
        "id": "JEFlOpa6bQ0x"
      },
      "execution_count": 48,
      "outputs": []
    },
    {
      "cell_type": "code",
      "source": [
        "#Encoding target column\n",
        "target_encoder = LabelEncoder()\n",
        "data['Target'] = target_encoder.fit_transform(data['Target'])"
      ],
      "metadata": {
        "id": "rGgaPgWybQyb"
      },
      "execution_count": 49,
      "outputs": []
    },
    {
      "cell_type": "code",
      "source": [
        "#Encoding Stance\n",
        "stance_encoder = LabelEncoder()\n",
        "data['Stance'] = stance_encoder.fit_transform(data['Stance'])"
      ],
      "metadata": {
        "id": "BaN4YiiwbQwO"
      },
      "execution_count": 50,
      "outputs": []
    },
    {
      "cell_type": "code",
      "source": [
        "# Split the dataset into training and testing sets\n",
        "X_train, X_test, y_train, y_test = train_test_split(data[['Target', 'Tweet']], data['Stance'], test_size=0.2, random_state=42)\n"
      ],
      "metadata": {
        "id": "JyUXbGBjbQt4"
      },
      "execution_count": 51,
      "outputs": []
    },
    {
      "cell_type": "code",
      "source": [
        "# Vectorize the text data\n",
        "tfidf = TfidfVectorizer(stop_words='english', max_features=5000)\n",
        "X_train_tfidf = tfidf.fit_transform(X_train['Tweet'])\n",
        "X_test_tfidf = tfidf.transform(X_test['Tweet'])"
      ],
      "metadata": {
        "id": "EA0l8a0gbQre"
      },
      "execution_count": 52,
      "outputs": []
    },
    {
      "cell_type": "code",
      "source": [
        "# Combine the target and text features\n",
        "import scipy\n",
        "X_train_combined = scipy.sparse.hstack([X_train['Target'].values[:, None], X_train_tfidf])\n",
        "X_test_combined = scipy.sparse.hstack([X_test['Target'].values[:, None], X_test_tfidf])\n"
      ],
      "metadata": {
        "id": "2woiKa6DbQpG"
      },
      "execution_count": 53,
      "outputs": []
    },
    {
      "cell_type": "code",
      "source": [
        "# Train and evaluate SVM classifier\n",
        "svm = SVC()\n",
        "svm.fit(X_train_combined, y_train)\n",
        "y_pred_svm = svm.predict(X_test_combined)\n",
        "svm_accuracy = accuracy_score(y_test, y_pred_svm)\n",
        "svm_f1 = f1_score(y_test, y_pred_svm, average='weighted')\n",
        "print(f'SVM Accuracy: {svm_accuracy:.2f}')\n",
        "print(f'SVM F1 Score: {svm_f1:.2f}')"
      ],
      "metadata": {
        "colab": {
          "base_uri": "https://localhost:8080/"
        },
        "id": "c879cFA6bQmU",
        "outputId": "86fc76e4-2475-41e9-8eb1-06d1dbef63ce"
      },
      "execution_count": 54,
      "outputs": [
        {
          "output_type": "stream",
          "name": "stdout",
          "text": [
            "SVM Accuracy: 0.55\n",
            "SVM F1 Score: 0.44\n"
          ]
        }
      ]
    },
    {
      "cell_type": "code",
      "source": [
        "# Train and evaluate Random Forest classifier\n",
        "rf = RandomForestClassifier()\n",
        "rf.fit(X_train_combined, y_train)\n",
        "y_pred_rf = rf.predict(X_test_combined)\n",
        "rf_accuracy = accuracy_score(y_test, y_pred_rf)\n",
        "rf_f1 = f1_score(y_test, y_pred_rf, average='weighted')\n",
        "print(f'Random Forest Accuracy: {rf_accuracy:.2f}')\n",
        "print(f'Random Forest F1 Score: {rf_f1:.2f}')"
      ],
      "metadata": {
        "colab": {
          "base_uri": "https://localhost:8080/"
        },
        "id": "jqw-A13-bQWa",
        "outputId": "b80e4aae-809f-4702-b30d-0f9495b99035"
      },
      "execution_count": 55,
      "outputs": [
        {
          "output_type": "stream",
          "name": "stdout",
          "text": [
            "Random Forest Accuracy: 0.59\n",
            "Random Forest F1 Score: 0.57\n"
          ]
        }
      ]
    },
    {
      "cell_type": "code",
      "source": [
        "# Train and evaluate Decision Tree classifier (DEFAULT PARAMETERS)\n",
        "dt = DecisionTreeClassifier()\n",
        "dt.fit(X_train_combined, y_train)\n",
        "y_pred_dt = dt.predict(X_test_combined)\n",
        "dt_accuracy = accuracy_score(y_test, y_pred_dt)\n",
        "dt_f1 = f1_score(y_test, y_pred_dt, average='weighted')\n",
        "print(f'Decision Tree Accuracy: {dt_accuracy:.2f}')\n",
        "print(f'Decision Tree F1 Score: {dt_f1:.2f}')"
      ],
      "metadata": {
        "colab": {
          "base_uri": "https://localhost:8080/"
        },
        "id": "9HHlo9hpd6EY",
        "outputId": "28cec487-24aa-4a96-fed7-3351040f3f5b"
      },
      "execution_count": 56,
      "outputs": [
        {
          "output_type": "stream",
          "name": "stdout",
          "text": [
            "Decision Tree Accuracy: 0.58\n",
            "Decision Tree F1 Score: 0.57\n"
          ]
        }
      ]
    },
    {
      "cell_type": "code",
      "source": [
        "import pandas as pd\n",
        "from sklearn.model_selection import GridSearchCV\n",
        "\n",
        "# Define the grid of hyperparameters for each model\n",
        "svm_param_grid = {'C': [0.1, 1, 10], 'kernel': ['linear', 'rbf']}\n",
        "rf_param_grid = {'n_estimators': [100, 200, 500], 'max_depth': [None, 5, 10]}\n",
        "dt_param_grid = {'criterion': ['gini', 'entropy'], 'splitter': ['best', 'random']}\n",
        "\n",
        "# Perform grid search for each model\n",
        "svm_grid_search = GridSearchCV(SVC(), svm_param_grid, cv=5)\n",
        "svm_grid_search.fit(X_train_combined, y_train)\n",
        "rf_grid_search = GridSearchCV(RandomForestClassifier(), rf_param_grid, cv=5)\n",
        "rf_grid_search.fit(X_train_combined, y_train)\n",
        "dt_grid_search = GridSearchCV(DecisionTreeClassifier(), dt_param_grid, cv=5)\n",
        "dt_grid_search.fit(X_train_combined, y_train)\n",
        "\n",
        "# Get the best parameters for each model\n",
        "svm_best_params = svm_grid_search.best_params_\n",
        "rf_best_params = rf_grid_search.best_params_\n",
        "dt_best_params = dt_grid_search.best_params_\n",
        "\n",
        "# Create a DataFrame to display the best parameters\n",
        "best_params_df = pd.DataFrame({\n",
        "    'Model': ['SVM', 'Random Forest', 'Decision Tree'],\n",
        "    'Best Parameters': [svm_best_params, rf_best_params, dt_best_params]\n",
        "})\n",
        "\n",
        "print(best_params_df)\n"
      ],
      "metadata": {
        "colab": {
          "base_uri": "https://localhost:8080/"
        },
        "id": "f47-vjEOd-Io",
        "outputId": "0b97df21-bc64-488a-f6ea-d3b9fdc99d4d"
      },
      "execution_count": 19,
      "outputs": [
        {
          "output_type": "stream",
          "name": "stdout",
          "text": [
            "           Model                              Best Parameters\n",
            "0            SVM                   {'C': 10, 'kernel': 'rbf'}\n",
            "1  Random Forest     {'max_depth': None, 'n_estimators': 100}\n",
            "2  Decision Tree  {'criterion': 'gini', 'splitter': 'random'}\n"
          ]
        }
      ]
    },
    {
      "cell_type": "code",
      "source": [
        "# Train and evaluate SVM classifier\n",
        "svm = SVC(C= 10, kernel='rbf')\n",
        "svm.fit(X_train_combined, y_train)\n",
        "y_pred_svm = svm.predict(X_test_combined)\n",
        "svm_accuracy = accuracy_score(y_test, y_pred_svm)\n",
        "svm_f1 = f1_score(y_test, y_pred_svm, average='weighted')\n",
        "print(f'SVM Accuracy: {svm_accuracy:.2f}')\n",
        "print(f'SVM F1 Score: {svm_f1:.2f}')"
      ],
      "metadata": {
        "colab": {
          "base_uri": "https://localhost:8080/"
        },
        "id": "vTd9vRBpfRmz",
        "outputId": "7245a9a2-c165-4a46-a903-bddf1c29fafb"
      },
      "execution_count": 22,
      "outputs": [
        {
          "output_type": "stream",
          "name": "stdout",
          "text": [
            "SVM Accuracy: 0.63\n",
            "SVM F1 Score: 0.62\n"
          ]
        }
      ]
    },
    {
      "cell_type": "code",
      "source": [
        "# Train and evaluate Random Forest classifier\n",
        "rf = RandomForestClassifier(max_depth=None,n_estimators=100)\n",
        "rf.fit(X_train_combined, y_train)\n",
        "y_pred_rf = rf.predict(X_test_combined)\n",
        "rf_accuracy = accuracy_score(y_test, y_pred_rf)\n",
        "rf_f1 = f1_score(y_test, y_pred_rf, average='weighted')\n",
        "print(f'Random Forest Accuracy: {rf_accuracy:.2f}')\n",
        "print(f'Random Forest F1 Score: {rf_f1:.2f}')"
      ],
      "metadata": {
        "colab": {
          "base_uri": "https://localhost:8080/"
        },
        "id": "Vy7SByy7fYkE",
        "outputId": "db121494-f86b-4e92-8dcb-58956e08e5bb"
      },
      "execution_count": 23,
      "outputs": [
        {
          "output_type": "stream",
          "name": "stdout",
          "text": [
            "Random Forest Accuracy: 0.61\n",
            "Random Forest F1 Score: 0.59\n"
          ]
        }
      ]
    },
    {
      "cell_type": "code",
      "source": [
        "# Train and evaluate Decision Tree classifier\n",
        "dt = DecisionTreeClassifier(criterion='gini',splitter='random')\n",
        "dt.fit(X_train_combined, y_train)\n",
        "y_pred_dt = dt.predict(X_test_combined)\n",
        "dt_accuracy = accuracy_score(y_test, y_pred_dt)\n",
        "dt_f1 = f1_score(y_test, y_pred_dt, average='weighted')\n",
        "print(f'Decision Tree Accuracy: {dt_accuracy:.2f}')\n",
        "print(f'Decision Tree F1 Score: {dt_f1:.2f}')"
      ],
      "metadata": {
        "colab": {
          "base_uri": "https://localhost:8080/"
        },
        "id": "OCqyz_KMfvXm",
        "outputId": "12582071-4c26-4bf3-bc1f-4fefdc2a17dd"
      },
      "execution_count": 24,
      "outputs": [
        {
          "output_type": "stream",
          "name": "stdout",
          "text": [
            "Decision Tree Accuracy: 0.59\n",
            "Decision Tree F1 Score: 0.58\n"
          ]
        }
      ]
    },
    {
      "cell_type": "code",
      "source": [
        "import numpy as np\n",
        "def identify_stance_and_target(text):\n",
        "  \"\"\"\n",
        "  This function takes a text input and identifies the stance and target using the trained models.\n",
        "\n",
        "  Args:\n",
        "    text: The input text for which the stance and target need to be identified.\n",
        "\n",
        "  Returns:\n",
        "    A dictionary containing the identified stance and target.\n",
        "  \"\"\"\n",
        "\n",
        "  # Vectorize the input text\n",
        "  text_tfidf = tfidf.transform([text])\n",
        "\n",
        "  # Combine the target and text features\n",
        "  text_combined = scipy.sparse.hstack([np.array([0]), text_tfidf])\n",
        "\n",
        "  # Predict the stance and target\n",
        "  stance_prediction = rf.predict(text_combined)[0]\n",
        "  target_prediction = dt.predict(text_combined)[0]\n",
        "\n",
        "  # Get the corresponding stance and target labels\n",
        "  stance_label = stance_encoder.inverse_transform([stance_prediction])[0]\n",
        "  target_label = target_encoder.inverse_transform([target_prediction])[0]\n",
        "\n",
        "  # Return the results as a dictionary\n",
        "  return {\n",
        "      \"stance\": stance_label,\n",
        "      \"target\": target_label\n",
        "  }\n",
        "\n",
        "# Example usage\n",
        "input_text = input(\"Enter a text: \")\n",
        "\n",
        "result = identify_stance_and_target(input_text)\n",
        "\n",
        "print(f\"Stance: {result['stance']}\")\n",
        "print(f\"Target: {result['target']}\")\n",
        "\n"
      ],
      "metadata": {
        "colab": {
          "base_uri": "https://localhost:8080/"
        },
        "id": "hwB4-LAef9AC",
        "outputId": "e493bb9e-9d88-424d-d339-6d6f4a5ec9f5"
      },
      "execution_count": 42,
      "outputs": [
        {
          "output_type": "stream",
          "name": "stdout",
          "text": [
            "Enter a text: Pregnancy is not a crisis. It's a gift. Whether they be wanted by you or someone else, no child is unwanted.\n",
            "Stance: AGAINST\n",
            "Target: Feminist Movement\n"
          ]
        }
      ]
    },
    {
      "cell_type": "code",
      "source": [],
      "metadata": {
        "id": "aefHDwdwgWha"
      },
      "execution_count": null,
      "outputs": []
    }
  ]
}